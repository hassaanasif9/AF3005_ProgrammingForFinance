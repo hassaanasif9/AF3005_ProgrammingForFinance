{
  "nbformat": 4,
  "nbformat_minor": 0,
  "metadata": {
    "colab": {
      "provenance": []
    },
    "kernelspec": {
      "name": "python3",
      "display_name": "Python 3"
    },
    "language_info": {
      "name": "python"
    },
    "widgets": {
      "application/vnd.jupyter.widget-state+json": {
        "0a3b2edd6c404a45a7960e9e8868dccc": {
          "model_module": "@jupyter-widgets/controls",
          "model_name": "IntTextModel",
          "model_module_version": "1.5.0",
          "state": {
            "_dom_classes": [],
            "_model_module": "@jupyter-widgets/controls",
            "_model_module_version": "1.5.0",
            "_model_name": "IntTextModel",
            "_view_count": null,
            "_view_module": "@jupyter-widgets/controls",
            "_view_module_version": "1.5.0",
            "_view_name": "IntTextView",
            "continuous_update": false,
            "description": "Income (PKR):",
            "description_tooltip": null,
            "disabled": false,
            "layout": "IPY_MODEL_ce92c9373c2d4c2f9069c94007e2af47",
            "step": 1,
            "style": "IPY_MODEL_0020f9fbb86246c4ab6f4768d995e92e",
            "value": 49997
          }
        },
        "ce92c9373c2d4c2f9069c94007e2af47": {
          "model_module": "@jupyter-widgets/base",
          "model_name": "LayoutModel",
          "model_module_version": "1.2.0",
          "state": {
            "_model_module": "@jupyter-widgets/base",
            "_model_module_version": "1.2.0",
            "_model_name": "LayoutModel",
            "_view_count": null,
            "_view_module": "@jupyter-widgets/base",
            "_view_module_version": "1.2.0",
            "_view_name": "LayoutView",
            "align_content": null,
            "align_items": null,
            "align_self": null,
            "border": null,
            "bottom": null,
            "display": null,
            "flex": null,
            "flex_flow": null,
            "grid_area": null,
            "grid_auto_columns": null,
            "grid_auto_flow": null,
            "grid_auto_rows": null,
            "grid_column": null,
            "grid_gap": null,
            "grid_row": null,
            "grid_template_areas": null,
            "grid_template_columns": null,
            "grid_template_rows": null,
            "height": null,
            "justify_content": null,
            "justify_items": null,
            "left": null,
            "margin": null,
            "max_height": null,
            "max_width": null,
            "min_height": null,
            "min_width": null,
            "object_fit": null,
            "object_position": null,
            "order": null,
            "overflow": null,
            "overflow_x": null,
            "overflow_y": null,
            "padding": null,
            "right": null,
            "top": null,
            "visibility": null,
            "width": null
          }
        },
        "0020f9fbb86246c4ab6f4768d995e92e": {
          "model_module": "@jupyter-widgets/controls",
          "model_name": "DescriptionStyleModel",
          "model_module_version": "1.5.0",
          "state": {
            "_model_module": "@jupyter-widgets/controls",
            "_model_module_version": "1.5.0",
            "_model_name": "DescriptionStyleModel",
            "_view_count": null,
            "_view_module": "@jupyter-widgets/base",
            "_view_module_version": "1.2.0",
            "_view_name": "StyleView",
            "description_width": ""
          }
        },
        "8af05ba8e6c3403c806383c52a24b1dd": {
          "model_module": "@jupyter-widgets/controls",
          "model_name": "IntSliderModel",
          "model_module_version": "1.5.0",
          "state": {
            "_dom_classes": [],
            "_model_module": "@jupyter-widgets/controls",
            "_model_module_version": "1.5.0",
            "_model_name": "IntSliderModel",
            "_view_count": null,
            "_view_module": "@jupyter-widgets/controls",
            "_view_module_version": "1.5.0",
            "_view_name": "IntSliderView",
            "continuous_update": true,
            "description": "Credit Score:",
            "description_tooltip": null,
            "disabled": false,
            "layout": "IPY_MODEL_ba1880bd5ccc46b0bb20e8f754a39746",
            "max": 850,
            "min": 300,
            "orientation": "horizontal",
            "readout": true,
            "readout_format": "d",
            "step": 10,
            "style": "IPY_MODEL_f6dc1967d0974edb85305584f4fa21a9",
            "value": 520
          }
        },
        "ba1880bd5ccc46b0bb20e8f754a39746": {
          "model_module": "@jupyter-widgets/base",
          "model_name": "LayoutModel",
          "model_module_version": "1.2.0",
          "state": {
            "_model_module": "@jupyter-widgets/base",
            "_model_module_version": "1.2.0",
            "_model_name": "LayoutModel",
            "_view_count": null,
            "_view_module": "@jupyter-widgets/base",
            "_view_module_version": "1.2.0",
            "_view_name": "LayoutView",
            "align_content": null,
            "align_items": null,
            "align_self": null,
            "border": null,
            "bottom": null,
            "display": null,
            "flex": null,
            "flex_flow": null,
            "grid_area": null,
            "grid_auto_columns": null,
            "grid_auto_flow": null,
            "grid_auto_rows": null,
            "grid_column": null,
            "grid_gap": null,
            "grid_row": null,
            "grid_template_areas": null,
            "grid_template_columns": null,
            "grid_template_rows": null,
            "height": null,
            "justify_content": null,
            "justify_items": null,
            "left": null,
            "margin": null,
            "max_height": null,
            "max_width": null,
            "min_height": null,
            "min_width": null,
            "object_fit": null,
            "object_position": null,
            "order": null,
            "overflow": null,
            "overflow_x": null,
            "overflow_y": null,
            "padding": null,
            "right": null,
            "top": null,
            "visibility": null,
            "width": null
          }
        },
        "f6dc1967d0974edb85305584f4fa21a9": {
          "model_module": "@jupyter-widgets/controls",
          "model_name": "SliderStyleModel",
          "model_module_version": "1.5.0",
          "state": {
            "_model_module": "@jupyter-widgets/controls",
            "_model_module_version": "1.5.0",
            "_model_name": "SliderStyleModel",
            "_view_count": null,
            "_view_module": "@jupyter-widgets/base",
            "_view_module_version": "1.2.0",
            "_view_name": "StyleView",
            "description_width": "",
            "handle_color": null
          }
        },
        "1cef2c381c7a4fdeb54987cb14de2ab4": {
          "model_module": "@jupyter-widgets/controls",
          "model_name": "CheckboxModel",
          "model_module_version": "1.5.0",
          "state": {
            "_dom_classes": [],
            "_model_module": "@jupyter-widgets/controls",
            "_model_module_version": "1.5.0",
            "_model_name": "CheckboxModel",
            "_view_count": null,
            "_view_module": "@jupyter-widgets/controls",
            "_view_module_version": "1.5.0",
            "_view_name": "CheckboxView",
            "description": "Employed",
            "description_tooltip": null,
            "disabled": false,
            "indent": true,
            "layout": "IPY_MODEL_afef2e4bbc274c078723d2fc5ee0e32a",
            "style": "IPY_MODEL_319a2c8863b045758b9e3a8734ee5633",
            "value": true
          }
        },
        "afef2e4bbc274c078723d2fc5ee0e32a": {
          "model_module": "@jupyter-widgets/base",
          "model_name": "LayoutModel",
          "model_module_version": "1.2.0",
          "state": {
            "_model_module": "@jupyter-widgets/base",
            "_model_module_version": "1.2.0",
            "_model_name": "LayoutModel",
            "_view_count": null,
            "_view_module": "@jupyter-widgets/base",
            "_view_module_version": "1.2.0",
            "_view_name": "LayoutView",
            "align_content": null,
            "align_items": null,
            "align_self": null,
            "border": null,
            "bottom": null,
            "display": null,
            "flex": null,
            "flex_flow": null,
            "grid_area": null,
            "grid_auto_columns": null,
            "grid_auto_flow": null,
            "grid_auto_rows": null,
            "grid_column": null,
            "grid_gap": null,
            "grid_row": null,
            "grid_template_areas": null,
            "grid_template_columns": null,
            "grid_template_rows": null,
            "height": null,
            "justify_content": null,
            "justify_items": null,
            "left": null,
            "margin": null,
            "max_height": null,
            "max_width": null,
            "min_height": null,
            "min_width": null,
            "object_fit": null,
            "object_position": null,
            "order": null,
            "overflow": null,
            "overflow_x": null,
            "overflow_y": null,
            "padding": null,
            "right": null,
            "top": null,
            "visibility": null,
            "width": null
          }
        },
        "319a2c8863b045758b9e3a8734ee5633": {
          "model_module": "@jupyter-widgets/controls",
          "model_name": "DescriptionStyleModel",
          "model_module_version": "1.5.0",
          "state": {
            "_model_module": "@jupyter-widgets/controls",
            "_model_module_version": "1.5.0",
            "_model_name": "DescriptionStyleModel",
            "_view_count": null,
            "_view_module": "@jupyter-widgets/base",
            "_view_module_version": "1.2.0",
            "_view_name": "StyleView",
            "description_width": ""
          }
        },
        "04d47676301a4a0ca4b399ec6f7d5a5c": {
          "model_module": "@jupyter-widgets/output",
          "model_name": "OutputModel",
          "model_module_version": "1.0.0",
          "state": {
            "_dom_classes": [],
            "_model_module": "@jupyter-widgets/output",
            "_model_module_version": "1.0.0",
            "_model_name": "OutputModel",
            "_view_count": null,
            "_view_module": "@jupyter-widgets/output",
            "_view_module_version": "1.0.0",
            "_view_name": "OutputView",
            "layout": "IPY_MODEL_81ee290b9ea74193b0f32da99c8a7ac0",
            "msg_id": "",
            "outputs": [
              {
                "output_type": "stream",
                "name": "stdout",
                "text": [
                  "Loan Rejected: Low income.\n"
                ]
              }
            ]
          }
        },
        "81ee290b9ea74193b0f32da99c8a7ac0": {
          "model_module": "@jupyter-widgets/base",
          "model_name": "LayoutModel",
          "model_module_version": "1.2.0",
          "state": {
            "_model_module": "@jupyter-widgets/base",
            "_model_module_version": "1.2.0",
            "_model_name": "LayoutModel",
            "_view_count": null,
            "_view_module": "@jupyter-widgets/base",
            "_view_module_version": "1.2.0",
            "_view_name": "LayoutView",
            "align_content": null,
            "align_items": null,
            "align_self": null,
            "border": null,
            "bottom": null,
            "display": null,
            "flex": null,
            "flex_flow": null,
            "grid_area": null,
            "grid_auto_columns": null,
            "grid_auto_flow": null,
            "grid_auto_rows": null,
            "grid_column": null,
            "grid_gap": null,
            "grid_row": null,
            "grid_template_areas": null,
            "grid_template_columns": null,
            "grid_template_rows": null,
            "height": null,
            "justify_content": null,
            "justify_items": null,
            "left": null,
            "margin": null,
            "max_height": null,
            "max_width": null,
            "min_height": null,
            "min_width": null,
            "object_fit": null,
            "object_position": null,
            "order": null,
            "overflow": null,
            "overflow_x": null,
            "overflow_y": null,
            "padding": null,
            "right": null,
            "top": null,
            "visibility": null,
            "width": null
          }
        },
        "78cd9de6f89e405d989b20c728015d2e": {
          "model_module": "@jupyter-widgets/controls",
          "model_name": "TextModel",
          "model_module_version": "1.5.0",
          "state": {
            "_dom_classes": [],
            "_model_module": "@jupyter-widgets/controls",
            "_model_module_version": "1.5.0",
            "_model_name": "TextModel",
            "_view_count": null,
            "_view_module": "@jupyter-widgets/controls",
            "_view_module_version": "1.5.0",
            "_view_name": "TextView",
            "continuous_update": true,
            "description": "Stock Returns:",
            "description_tooltip": null,
            "disabled": false,
            "layout": "IPY_MODEL_2cd0c873430f476787cd2f1949e3b872",
            "placeholder": "​",
            "style": "IPY_MODEL_6c68b71ec6a441a0ad4864cda2430b3f",
            "value": "5,10,5"
          }
        },
        "2cd0c873430f476787cd2f1949e3b872": {
          "model_module": "@jupyter-widgets/base",
          "model_name": "LayoutModel",
          "model_module_version": "1.2.0",
          "state": {
            "_model_module": "@jupyter-widgets/base",
            "_model_module_version": "1.2.0",
            "_model_name": "LayoutModel",
            "_view_count": null,
            "_view_module": "@jupyter-widgets/base",
            "_view_module_version": "1.2.0",
            "_view_name": "LayoutView",
            "align_content": null,
            "align_items": null,
            "align_self": null,
            "border": null,
            "bottom": null,
            "display": null,
            "flex": null,
            "flex_flow": null,
            "grid_area": null,
            "grid_auto_columns": null,
            "grid_auto_flow": null,
            "grid_auto_rows": null,
            "grid_column": null,
            "grid_gap": null,
            "grid_row": null,
            "grid_template_areas": null,
            "grid_template_columns": null,
            "grid_template_rows": null,
            "height": null,
            "justify_content": null,
            "justify_items": null,
            "left": null,
            "margin": null,
            "max_height": null,
            "max_width": null,
            "min_height": null,
            "min_width": null,
            "object_fit": null,
            "object_position": null,
            "order": null,
            "overflow": null,
            "overflow_x": null,
            "overflow_y": null,
            "padding": null,
            "right": null,
            "top": null,
            "visibility": null,
            "width": null
          }
        },
        "6c68b71ec6a441a0ad4864cda2430b3f": {
          "model_module": "@jupyter-widgets/controls",
          "model_name": "DescriptionStyleModel",
          "model_module_version": "1.5.0",
          "state": {
            "_model_module": "@jupyter-widgets/controls",
            "_model_module_version": "1.5.0",
            "_model_name": "DescriptionStyleModel",
            "_view_count": null,
            "_view_module": "@jupyter-widgets/base",
            "_view_module_version": "1.2.0",
            "_view_name": "StyleView",
            "description_width": ""
          }
        },
        "f0a8e506119542b29e8b238d2f69b3c1": {
          "model_module": "@jupyter-widgets/output",
          "model_name": "OutputModel",
          "model_module_version": "1.0.0",
          "state": {
            "_dom_classes": [],
            "_model_module": "@jupyter-widgets/output",
            "_model_module_version": "1.0.0",
            "_model_name": "OutputModel",
            "_view_count": null,
            "_view_module": "@jupyter-widgets/output",
            "_view_module_version": "1.0.0",
            "_view_name": "OutputView",
            "layout": "IPY_MODEL_16e207ba4afd48a1828fc1775cee4040",
            "msg_id": "",
            "outputs": [
              {
                "output_type": "stream",
                "name": "stdout",
                "text": [
                  "Investment Risk: Low Risk\n"
                ]
              }
            ]
          }
        },
        "16e207ba4afd48a1828fc1775cee4040": {
          "model_module": "@jupyter-widgets/base",
          "model_name": "LayoutModel",
          "model_module_version": "1.2.0",
          "state": {
            "_model_module": "@jupyter-widgets/base",
            "_model_module_version": "1.2.0",
            "_model_name": "LayoutModel",
            "_view_count": null,
            "_view_module": "@jupyter-widgets/base",
            "_view_module_version": "1.2.0",
            "_view_name": "LayoutView",
            "align_content": null,
            "align_items": null,
            "align_self": null,
            "border": null,
            "bottom": null,
            "display": null,
            "flex": null,
            "flex_flow": null,
            "grid_area": null,
            "grid_auto_columns": null,
            "grid_auto_flow": null,
            "grid_auto_rows": null,
            "grid_column": null,
            "grid_gap": null,
            "grid_row": null,
            "grid_template_areas": null,
            "grid_template_columns": null,
            "grid_template_rows": null,
            "height": null,
            "justify_content": null,
            "justify_items": null,
            "left": null,
            "margin": null,
            "max_height": null,
            "max_width": null,
            "min_height": null,
            "min_width": null,
            "object_fit": null,
            "object_position": null,
            "order": null,
            "overflow": null,
            "overflow_x": null,
            "overflow_y": null,
            "padding": null,
            "right": null,
            "top": null,
            "visibility": null,
            "width": null
          }
        },
        "b5dad00a080a4c74af5ed95ad5130f69": {
          "model_module": "@jupyter-widgets/controls",
          "model_name": "IntTextModel",
          "model_module_version": "1.5.0",
          "state": {
            "_dom_classes": [],
            "_model_module": "@jupyter-widgets/controls",
            "_model_module_version": "1.5.0",
            "_model_name": "IntTextModel",
            "_view_count": null,
            "_view_module": "@jupyter-widgets/controls",
            "_view_module_version": "1.5.0",
            "_view_name": "IntTextView",
            "continuous_update": false,
            "description": "Loan Amount:",
            "description_tooltip": null,
            "disabled": false,
            "layout": "IPY_MODEL_93fe753dae0c4632bd5e6bbd30425945",
            "step": 1,
            "style": "IPY_MODEL_c9dfafbef6c844bfbe436b0f1c83a034",
            "value": 499999
          }
        },
        "93fe753dae0c4632bd5e6bbd30425945": {
          "model_module": "@jupyter-widgets/base",
          "model_name": "LayoutModel",
          "model_module_version": "1.2.0",
          "state": {
            "_model_module": "@jupyter-widgets/base",
            "_model_module_version": "1.2.0",
            "_model_name": "LayoutModel",
            "_view_count": null,
            "_view_module": "@jupyter-widgets/base",
            "_view_module_version": "1.2.0",
            "_view_name": "LayoutView",
            "align_content": null,
            "align_items": null,
            "align_self": null,
            "border": null,
            "bottom": null,
            "display": null,
            "flex": null,
            "flex_flow": null,
            "grid_area": null,
            "grid_auto_columns": null,
            "grid_auto_flow": null,
            "grid_auto_rows": null,
            "grid_column": null,
            "grid_gap": null,
            "grid_row": null,
            "grid_template_areas": null,
            "grid_template_columns": null,
            "grid_template_rows": null,
            "height": null,
            "justify_content": null,
            "justify_items": null,
            "left": null,
            "margin": null,
            "max_height": null,
            "max_width": null,
            "min_height": null,
            "min_width": null,
            "object_fit": null,
            "object_position": null,
            "order": null,
            "overflow": null,
            "overflow_x": null,
            "overflow_y": null,
            "padding": null,
            "right": null,
            "top": null,
            "visibility": null,
            "width": null
          }
        },
        "c9dfafbef6c844bfbe436b0f1c83a034": {
          "model_module": "@jupyter-widgets/controls",
          "model_name": "DescriptionStyleModel",
          "model_module_version": "1.5.0",
          "state": {
            "_model_module": "@jupyter-widgets/controls",
            "_model_module_version": "1.5.0",
            "_model_name": "DescriptionStyleModel",
            "_view_count": null,
            "_view_module": "@jupyter-widgets/base",
            "_view_module_version": "1.2.0",
            "_view_name": "StyleView",
            "description_width": ""
          }
        },
        "5cc02ca7303b4beb84a0fd9384572b16": {
          "model_module": "@jupyter-widgets/controls",
          "model_name": "IntTextModel",
          "model_module_version": "1.5.0",
          "state": {
            "_dom_classes": [],
            "_model_module": "@jupyter-widgets/controls",
            "_model_module_version": "1.5.0",
            "_model_name": "IntTextModel",
            "_view_count": null,
            "_view_module": "@jupyter-widgets/controls",
            "_view_module_version": "1.5.0",
            "_view_name": "IntTextView",
            "continuous_update": false,
            "description": "Monthly Payment:",
            "description_tooltip": null,
            "disabled": false,
            "layout": "IPY_MODEL_43cd5f9e1d6745b4a3b6ac12bbb42077",
            "step": 1,
            "style": "IPY_MODEL_ab226ddf3c1b4866a83336efcd48a6eb",
            "value": 25000
          }
        },
        "43cd5f9e1d6745b4a3b6ac12bbb42077": {
          "model_module": "@jupyter-widgets/base",
          "model_name": "LayoutModel",
          "model_module_version": "1.2.0",
          "state": {
            "_model_module": "@jupyter-widgets/base",
            "_model_module_version": "1.2.0",
            "_model_name": "LayoutModel",
            "_view_count": null,
            "_view_module": "@jupyter-widgets/base",
            "_view_module_version": "1.2.0",
            "_view_name": "LayoutView",
            "align_content": null,
            "align_items": null,
            "align_self": null,
            "border": null,
            "bottom": null,
            "display": null,
            "flex": null,
            "flex_flow": null,
            "grid_area": null,
            "grid_auto_columns": null,
            "grid_auto_flow": null,
            "grid_auto_rows": null,
            "grid_column": null,
            "grid_gap": null,
            "grid_row": null,
            "grid_template_areas": null,
            "grid_template_columns": null,
            "grid_template_rows": null,
            "height": null,
            "justify_content": null,
            "justify_items": null,
            "left": null,
            "margin": null,
            "max_height": null,
            "max_width": null,
            "min_height": null,
            "min_width": null,
            "object_fit": null,
            "object_position": null,
            "order": null,
            "overflow": null,
            "overflow_x": null,
            "overflow_y": null,
            "padding": null,
            "right": null,
            "top": null,
            "visibility": null,
            "width": null
          }
        },
        "ab226ddf3c1b4866a83336efcd48a6eb": {
          "model_module": "@jupyter-widgets/controls",
          "model_name": "DescriptionStyleModel",
          "model_module_version": "1.5.0",
          "state": {
            "_model_module": "@jupyter-widgets/controls",
            "_model_module_version": "1.5.0",
            "_model_name": "DescriptionStyleModel",
            "_view_count": null,
            "_view_module": "@jupyter-widgets/base",
            "_view_module_version": "1.2.0",
            "_view_name": "StyleView",
            "description_width": ""
          }
        },
        "1cb9b90edf70429a802b20447386b404": {
          "model_module": "@jupyter-widgets/output",
          "model_name": "OutputModel",
          "model_module_version": "1.0.0",
          "state": {
            "_dom_classes": [],
            "_model_module": "@jupyter-widgets/output",
            "_model_module_version": "1.0.0",
            "_model_name": "OutputModel",
            "_view_count": null,
            "_view_module": "@jupyter-widgets/output",
            "_view_module_version": "1.0.0",
            "_view_name": "OutputView",
            "layout": "IPY_MODEL_6ab1f0b287f74cc99f6ee1e87328f3f3",
            "msg_id": "",
            "outputs": [
              {
                "output_type": "stream",
                "name": "stdout",
                "text": [
                  "Month 1: Remaining Balance = PKR 474999\n",
                  "Month 2: Remaining Balance = PKR 449999\n",
                  "Month 3: Remaining Balance = PKR 424999\n",
                  "Month 4: Remaining Balance = PKR 399999\n",
                  "Month 5: Remaining Balance = PKR 374999\n",
                  "Month 6: Remaining Balance = PKR 349999\n",
                  "Month 7: Remaining Balance = PKR 324999\n",
                  "Month 8: Remaining Balance = PKR 299999\n",
                  "Month 9: Remaining Balance = PKR 274999\n",
                  "Month 10: Remaining Balance = PKR 249999\n",
                  "Month 11: Remaining Balance = PKR 224999\n",
                  "Month 12: Remaining Balance = PKR 199999\n",
                  "Month 13: Remaining Balance = PKR 174999\n",
                  "Month 14: Remaining Balance = PKR 149999\n",
                  "Month 15: Remaining Balance = PKR 124999\n",
                  "Month 16: Remaining Balance = PKR 99999\n",
                  "Month 17: Remaining Balance = PKR 74999\n",
                  "Month 18: Remaining Balance = PKR 49999\n",
                  "Month 19: Remaining Balance = PKR 24999\n",
                  "Month 20: Remaining Balance = PKR 0\n"
                ]
              }
            ]
          }
        },
        "6ab1f0b287f74cc99f6ee1e87328f3f3": {
          "model_module": "@jupyter-widgets/base",
          "model_name": "LayoutModel",
          "model_module_version": "1.2.0",
          "state": {
            "_model_module": "@jupyter-widgets/base",
            "_model_module_version": "1.2.0",
            "_model_name": "LayoutModel",
            "_view_count": null,
            "_view_module": "@jupyter-widgets/base",
            "_view_module_version": "1.2.0",
            "_view_name": "LayoutView",
            "align_content": null,
            "align_items": null,
            "align_self": null,
            "border": null,
            "bottom": null,
            "display": null,
            "flex": null,
            "flex_flow": null,
            "grid_area": null,
            "grid_auto_columns": null,
            "grid_auto_flow": null,
            "grid_auto_rows": null,
            "grid_column": null,
            "grid_gap": null,
            "grid_row": null,
            "grid_template_areas": null,
            "grid_template_columns": null,
            "grid_template_rows": null,
            "height": null,
            "justify_content": null,
            "justify_items": null,
            "left": null,
            "margin": null,
            "max_height": null,
            "max_width": null,
            "min_height": null,
            "min_width": null,
            "object_fit": null,
            "object_position": null,
            "order": null,
            "overflow": null,
            "overflow_x": null,
            "overflow_y": null,
            "padding": null,
            "right": null,
            "top": null,
            "visibility": null,
            "width": null
          }
        },
        "ac0fb5cc682048a8aaf35d946a509bfc": {
          "model_module": "@jupyter-widgets/controls",
          "model_name": "TextModel",
          "model_module_version": "1.5.0",
          "state": {
            "_dom_classes": [],
            "_model_module": "@jupyter-widgets/controls",
            "_model_module_version": "1.5.0",
            "_model_name": "TextModel",
            "_view_count": null,
            "_view_module": "@jupyter-widgets/controls",
            "_view_module_version": "1.5.0",
            "_view_name": "TextView",
            "continuous_update": true,
            "description": "Stock Prices:",
            "description_tooltip": null,
            "disabled": false,
            "layout": "IPY_MODEL_972f7bb4cf8b47d3bb9e120728924aed",
            "placeholder": "​",
            "style": "IPY_MODEL_7147abc2b62f4d38a974d6683463cb9e",
            "value": "150,160,None,180,200,210"
          }
        },
        "972f7bb4cf8b47d3bb9e120728924aed": {
          "model_module": "@jupyter-widgets/base",
          "model_name": "LayoutModel",
          "model_module_version": "1.2.0",
          "state": {
            "_model_module": "@jupyter-widgets/base",
            "_model_module_version": "1.2.0",
            "_model_name": "LayoutModel",
            "_view_count": null,
            "_view_module": "@jupyter-widgets/base",
            "_view_module_version": "1.2.0",
            "_view_name": "LayoutView",
            "align_content": null,
            "align_items": null,
            "align_self": null,
            "border": null,
            "bottom": null,
            "display": null,
            "flex": null,
            "flex_flow": null,
            "grid_area": null,
            "grid_auto_columns": null,
            "grid_auto_flow": null,
            "grid_auto_rows": null,
            "grid_column": null,
            "grid_gap": null,
            "grid_row": null,
            "grid_template_areas": null,
            "grid_template_columns": null,
            "grid_template_rows": null,
            "height": null,
            "justify_content": null,
            "justify_items": null,
            "left": null,
            "margin": null,
            "max_height": null,
            "max_width": null,
            "min_height": null,
            "min_width": null,
            "object_fit": null,
            "object_position": null,
            "order": null,
            "overflow": null,
            "overflow_x": null,
            "overflow_y": null,
            "padding": null,
            "right": null,
            "top": null,
            "visibility": null,
            "width": null
          }
        },
        "7147abc2b62f4d38a974d6683463cb9e": {
          "model_module": "@jupyter-widgets/controls",
          "model_name": "DescriptionStyleModel",
          "model_module_version": "1.5.0",
          "state": {
            "_model_module": "@jupyter-widgets/controls",
            "_model_module_version": "1.5.0",
            "_model_name": "DescriptionStyleModel",
            "_view_count": null,
            "_view_module": "@jupyter-widgets/base",
            "_view_module_version": "1.2.0",
            "_view_name": "StyleView",
            "description_width": ""
          }
        },
        "c8d246b731234ed78bd7bb773b622ecf": {
          "model_module": "@jupyter-widgets/controls",
          "model_name": "IntTextModel",
          "model_module_version": "1.5.0",
          "state": {
            "_dom_classes": [],
            "_model_module": "@jupyter-widgets/controls",
            "_model_module_version": "1.5.0",
            "_model_name": "IntTextModel",
            "_view_count": null,
            "_view_module": "@jupyter-widgets/controls",
            "_view_module_version": "1.5.0",
            "_view_name": "IntTextView",
            "continuous_update": false,
            "description": "Target Price:",
            "description_tooltip": null,
            "disabled": false,
            "layout": "IPY_MODEL_f5ba5b824b1d40c7a31e26c2f9b6682a",
            "step": 1,
            "style": "IPY_MODEL_4ea110924284412190301698c7bcd84f",
            "value": 199
          }
        },
        "f5ba5b824b1d40c7a31e26c2f9b6682a": {
          "model_module": "@jupyter-widgets/base",
          "model_name": "LayoutModel",
          "model_module_version": "1.2.0",
          "state": {
            "_model_module": "@jupyter-widgets/base",
            "_model_module_version": "1.2.0",
            "_model_name": "LayoutModel",
            "_view_count": null,
            "_view_module": "@jupyter-widgets/base",
            "_view_module_version": "1.2.0",
            "_view_name": "LayoutView",
            "align_content": null,
            "align_items": null,
            "align_self": null,
            "border": null,
            "bottom": null,
            "display": null,
            "flex": null,
            "flex_flow": null,
            "grid_area": null,
            "grid_auto_columns": null,
            "grid_auto_flow": null,
            "grid_auto_rows": null,
            "grid_column": null,
            "grid_gap": null,
            "grid_row": null,
            "grid_template_areas": null,
            "grid_template_columns": null,
            "grid_template_rows": null,
            "height": null,
            "justify_content": null,
            "justify_items": null,
            "left": null,
            "margin": null,
            "max_height": null,
            "max_width": null,
            "min_height": null,
            "min_width": null,
            "object_fit": null,
            "object_position": null,
            "order": null,
            "overflow": null,
            "overflow_x": null,
            "overflow_y": null,
            "padding": null,
            "right": null,
            "top": null,
            "visibility": null,
            "width": null
          }
        },
        "4ea110924284412190301698c7bcd84f": {
          "model_module": "@jupyter-widgets/controls",
          "model_name": "DescriptionStyleModel",
          "model_module_version": "1.5.0",
          "state": {
            "_model_module": "@jupyter-widgets/controls",
            "_model_module_version": "1.5.0",
            "_model_name": "DescriptionStyleModel",
            "_view_count": null,
            "_view_module": "@jupyter-widgets/base",
            "_view_module_version": "1.2.0",
            "_view_name": "StyleView",
            "description_width": ""
          }
        },
        "77590e9de4994607aadf7088ecf1afb2": {
          "model_module": "@jupyter-widgets/output",
          "model_name": "OutputModel",
          "model_module_version": "1.0.0",
          "state": {
            "_dom_classes": [],
            "_model_module": "@jupyter-widgets/output",
            "_model_module_version": "1.0.0",
            "_model_name": "OutputModel",
            "_view_count": null,
            "_view_module": "@jupyter-widgets/output",
            "_view_module_version": "1.0.0",
            "_view_name": "OutputView",
            "layout": "IPY_MODEL_026b18aac2ee4278995e3e3320250e70",
            "msg_id": "",
            "outputs": [
              {
                "output_type": "stream",
                "name": "stdout",
                "text": [
                  "Day 5: Stock hit target price PKR 200.0. Selling!\n"
                ]
              }
            ]
          }
        },
        "026b18aac2ee4278995e3e3320250e70": {
          "model_module": "@jupyter-widgets/base",
          "model_name": "LayoutModel",
          "model_module_version": "1.2.0",
          "state": {
            "_model_module": "@jupyter-widgets/base",
            "_model_module_version": "1.2.0",
            "_model_name": "LayoutModel",
            "_view_count": null,
            "_view_module": "@jupyter-widgets/base",
            "_view_module_version": "1.2.0",
            "_view_name": "LayoutView",
            "align_content": null,
            "align_items": null,
            "align_self": null,
            "border": null,
            "bottom": null,
            "display": null,
            "flex": null,
            "flex_flow": null,
            "grid_area": null,
            "grid_auto_columns": null,
            "grid_auto_flow": null,
            "grid_auto_rows": null,
            "grid_column": null,
            "grid_gap": null,
            "grid_row": null,
            "grid_template_areas": null,
            "grid_template_columns": null,
            "grid_template_rows": null,
            "height": null,
            "justify_content": null,
            "justify_items": null,
            "left": null,
            "margin": null,
            "max_height": null,
            "max_width": null,
            "min_height": null,
            "min_width": null,
            "object_fit": null,
            "object_position": null,
            "order": null,
            "overflow": null,
            "overflow_x": null,
            "overflow_y": null,
            "padding": null,
            "right": null,
            "top": null,
            "visibility": null,
            "width": null
          }
        },
        "aef03585ee06440daa960532cc75a410": {
          "model_module": "@jupyter-widgets/controls",
          "model_name": "IntTextModel",
          "model_module_version": "1.5.0",
          "state": {
            "_dom_classes": [],
            "_model_module": "@jupyter-widgets/controls",
            "_model_module_version": "1.5.0",
            "_model_name": "IntTextModel",
            "_view_count": null,
            "_view_module": "@jupyter-widgets/controls",
            "_view_module_version": "1.5.0",
            "_view_name": "IntTextView",
            "continuous_update": false,
            "description": "Start Rate (PKR/USD):",
            "description_tooltip": null,
            "disabled": false,
            "layout": "IPY_MODEL_9ecba2f611844c1990da8c0077ddfc49",
            "step": 1,
            "style": "IPY_MODEL_ffc3efbf67c54c87807aa423c7ba2ee5",
            "value": 290
          }
        },
        "9ecba2f611844c1990da8c0077ddfc49": {
          "model_module": "@jupyter-widgets/base",
          "model_name": "LayoutModel",
          "model_module_version": "1.2.0",
          "state": {
            "_model_module": "@jupyter-widgets/base",
            "_model_module_version": "1.2.0",
            "_model_name": "LayoutModel",
            "_view_count": null,
            "_view_module": "@jupyter-widgets/base",
            "_view_module_version": "1.2.0",
            "_view_name": "LayoutView",
            "align_content": null,
            "align_items": null,
            "align_self": null,
            "border": null,
            "bottom": null,
            "display": null,
            "flex": null,
            "flex_flow": null,
            "grid_area": null,
            "grid_auto_columns": null,
            "grid_auto_flow": null,
            "grid_auto_rows": null,
            "grid_column": null,
            "grid_gap": null,
            "grid_row": null,
            "grid_template_areas": null,
            "grid_template_columns": null,
            "grid_template_rows": null,
            "height": null,
            "justify_content": null,
            "justify_items": null,
            "left": null,
            "margin": null,
            "max_height": null,
            "max_width": null,
            "min_height": null,
            "min_width": null,
            "object_fit": null,
            "object_position": null,
            "order": null,
            "overflow": null,
            "overflow_x": null,
            "overflow_y": null,
            "padding": null,
            "right": null,
            "top": null,
            "visibility": null,
            "width": null
          }
        },
        "ffc3efbf67c54c87807aa423c7ba2ee5": {
          "model_module": "@jupyter-widgets/controls",
          "model_name": "DescriptionStyleModel",
          "model_module_version": "1.5.0",
          "state": {
            "_model_module": "@jupyter-widgets/controls",
            "_model_module_version": "1.5.0",
            "_model_name": "DescriptionStyleModel",
            "_view_count": null,
            "_view_module": "@jupyter-widgets/base",
            "_view_module_version": "1.2.0",
            "_view_name": "StyleView",
            "description_width": ""
          }
        },
        "70f70fdfbea64794bc460b00ad3c4988": {
          "model_module": "@jupyter-widgets/controls",
          "model_name": "IntTextModel",
          "model_module_version": "1.5.0",
          "state": {
            "_dom_classes": [],
            "_model_module": "@jupyter-widgets/controls",
            "_model_module_version": "1.5.0",
            "_model_name": "IntTextModel",
            "_view_count": null,
            "_view_module": "@jupyter-widgets/controls",
            "_view_module_version": "1.5.0",
            "_view_name": "IntTextView",
            "continuous_update": false,
            "description": "Target Rate (PKR/USD):",
            "description_tooltip": null,
            "disabled": false,
            "layout": "IPY_MODEL_e225a00d0ad0451e95dd9280d14a62af",
            "step": 1,
            "style": "IPY_MODEL_6b6fff86e13e442296a9f0d9c168a698",
            "value": 299
          }
        },
        "e225a00d0ad0451e95dd9280d14a62af": {
          "model_module": "@jupyter-widgets/base",
          "model_name": "LayoutModel",
          "model_module_version": "1.2.0",
          "state": {
            "_model_module": "@jupyter-widgets/base",
            "_model_module_version": "1.2.0",
            "_model_name": "LayoutModel",
            "_view_count": null,
            "_view_module": "@jupyter-widgets/base",
            "_view_module_version": "1.2.0",
            "_view_name": "LayoutView",
            "align_content": null,
            "align_items": null,
            "align_self": null,
            "border": null,
            "bottom": null,
            "display": null,
            "flex": null,
            "flex_flow": null,
            "grid_area": null,
            "grid_auto_columns": null,
            "grid_auto_flow": null,
            "grid_auto_rows": null,
            "grid_column": null,
            "grid_gap": null,
            "grid_row": null,
            "grid_template_areas": null,
            "grid_template_columns": null,
            "grid_template_rows": null,
            "height": null,
            "justify_content": null,
            "justify_items": null,
            "left": null,
            "margin": null,
            "max_height": null,
            "max_width": null,
            "min_height": null,
            "min_width": null,
            "object_fit": null,
            "object_position": null,
            "order": null,
            "overflow": null,
            "overflow_x": null,
            "overflow_y": null,
            "padding": null,
            "right": null,
            "top": null,
            "visibility": null,
            "width": null
          }
        },
        "6b6fff86e13e442296a9f0d9c168a698": {
          "model_module": "@jupyter-widgets/controls",
          "model_name": "DescriptionStyleModel",
          "model_module_version": "1.5.0",
          "state": {
            "_model_module": "@jupyter-widgets/controls",
            "_model_module_version": "1.5.0",
            "_model_name": "DescriptionStyleModel",
            "_view_count": null,
            "_view_module": "@jupyter-widgets/base",
            "_view_module_version": "1.2.0",
            "_view_name": "StyleView",
            "description_width": ""
          }
        },
        "5604a032ea0a42539d1c8131565bc155": {
          "model_module": "@jupyter-widgets/output",
          "model_name": "OutputModel",
          "model_module_version": "1.0.0",
          "state": {
            "_dom_classes": [],
            "_model_module": "@jupyter-widgets/output",
            "_model_module_version": "1.0.0",
            "_model_name": "OutputModel",
            "_view_count": null,
            "_view_module": "@jupyter-widgets/output",
            "_view_module_version": "1.0.0",
            "_view_name": "OutputView",
            "layout": "IPY_MODEL_48e461b0f2dc44ceb6e2bdb167956808",
            "msg_id": "",
            "outputs": [
              {
                "output_type": "stream",
                "name": "stdout",
                "text": [
                  "Day 1: Exchange Rate = PKR 290/USD\n",
                  "Day 2: Exchange Rate = PKR 291/USD\n",
                  "Day 3: Exchange Rate = PKR 292/USD\n",
                  "Day 4: Exchange Rate = PKR 293/USD\n",
                  "Day 5: Exchange Rate = PKR 294/USD\n",
                  "Day 6: Exchange Rate = PKR 295/USD\n",
                  "Day 7: Exchange Rate = PKR 296/USD\n",
                  "Day 8: Exchange Rate = PKR 297/USD\n",
                  "Day 9: Exchange Rate = PKR 298/USD\n",
                  "Day 10: Exchange Rate = PKR 299/USD\n"
                ]
              }
            ]
          }
        },
        "48e461b0f2dc44ceb6e2bdb167956808": {
          "model_module": "@jupyter-widgets/base",
          "model_name": "LayoutModel",
          "model_module_version": "1.2.0",
          "state": {
            "_model_module": "@jupyter-widgets/base",
            "_model_module_version": "1.2.0",
            "_model_name": "LayoutModel",
            "_view_count": null,
            "_view_module": "@jupyter-widgets/base",
            "_view_module_version": "1.2.0",
            "_view_name": "LayoutView",
            "align_content": null,
            "align_items": null,
            "align_self": null,
            "border": null,
            "bottom": null,
            "display": null,
            "flex": null,
            "flex_flow": null,
            "grid_area": null,
            "grid_auto_columns": null,
            "grid_auto_flow": null,
            "grid_auto_rows": null,
            "grid_column": null,
            "grid_gap": null,
            "grid_row": null,
            "grid_template_areas": null,
            "grid_template_columns": null,
            "grid_template_rows": null,
            "height": null,
            "justify_content": null,
            "justify_items": null,
            "left": null,
            "margin": null,
            "max_height": null,
            "max_width": null,
            "min_height": null,
            "min_width": null,
            "object_fit": null,
            "object_position": null,
            "order": null,
            "overflow": null,
            "overflow_x": null,
            "overflow_y": null,
            "padding": null,
            "right": null,
            "top": null,
            "visibility": null,
            "width": null
          }
        }
      }
    }
  },
  "cells": [
    {
      "cell_type": "markdown",
      "source": [
        "# **AF3005 – Programming for Finance**  \n",
        "\n",
        "---\n",
        "\n",
        "## **📘 Assignment 1: Smart Financial Management System**  \n",
        "\n",
        "📍 **FAST National University of Computer and Emerging Sciences (FAST-NUCES), Islamabad**  \n",
        "👨‍🏫 **Instructor:** Dr. Usama Arshad (Assistant Professor, FSM)  \n",
        "🎓 **Program:** BS Financial Technology (BSFT)  \n",
        "📅 **Semester:** Spring 2025  \n",
        "📌 **Sections:** BSFT06A, BSFT06B, BSFT06C  \n",
        "\n",
        "---\n",
        "\n",
        "## **🎯 Course Learning Outcomes (CLOs)**  \n",
        "- **CLO1:** Write Python programs to solve basic financial problems.  \n",
        "- **CLO2:** Perform data manipulation and analysis using Python libraries.  \n",
        "\n",
        "---\n",
        "\n",
        "\n",
        "\n",
        "\n",
        "\n",
        "\n",
        "\n",
        "\n",
        "\n",
        "\n",
        "\n"
      ],
      "metadata": {
        "id": "5SRLdaqmHtmP"
      }
    },
    {
      "cell_type": "markdown",
      "source": [
        "\n",
        "# **🟢 Deadline: 15th February 2025**\n",
        "\n",
        "---\n",
        "\n"
      ],
      "metadata": {
        "id": "wXgvxhSVQXNz"
      }
    },
    {
      "cell_type": "markdown",
      "source": [
        "## **📥 Submission Guidelines**\n",
        "- **File Format:** Submit your assignment as a Jupyter Notebook file (`.ipynb`).\n",
        "- **Naming Convention:** Use the format `[Your_regno]_AF3005_Assignment1.ipynb`.\n",
        "- **Submission Platform:** Upload your file to **Google Classroom** under the assigned submission.\n",
        "- **GitHub Repository:**\n",
        "  - Create a GitHub repository named `AF3005_ProgrammingForFinance`.\n",
        "  - Upload your `.ipynb` file.\n",
        "  - Ensure the repository is structured properly with a `README.md` explaining the implementation.\n",
        "  - The implementation must include `ipywidgets` for interactive elements.\n",
        "  - Share the GitHub repository link in Google Classroom submission with file.\n",
        "\n",
        "---\n",
        "\n",
        "---\n",
        "\n"
      ],
      "metadata": {
        "id": "mHDXP18hMn3A"
      }
    },
    {
      "cell_type": "markdown",
      "source": [
        "# **🟢 Scenario: Smart Financial Management System [20 marks]**  \n",
        "\n",
        "\n",
        "---\n",
        "\n",
        "\n",
        "SecureBank wants to develop an **automated financial management system** using Python. Your task is to implement different financial operations step by step.\n",
        "\n",
        "This system will:  \n",
        "✅ **Assess customer eligibility for loans.**  \n",
        "✅ **Classify investment portfolios based on risk.**  \n",
        "✅ **Automate loan repayment tracking.**  \n",
        "✅ **Monitor stock market trends and trigger alerts.**  \n",
        "✅ **Track currency exchange rates and suggest conversions.**  \n",
        "\n",
        "Your task is to **break down the requirements, write a structured plan, and implement the logic step by step** using **ipywidgets** for interactive user inputs.\n",
        "\n",
        "---\n",
        "\n"
      ],
      "metadata": {
        "id": "XEanO5EiLdC9"
      }
    },
    {
      "cell_type": "markdown",
      "source": [
        "## **🟢 Part 1: Loan Eligibility & Interest Rate Calculation [4 marks]**  \n",
        "\n",
        "📌 **Requirement:**  \n",
        "SecureBank only approves loans if the **customer meets all eligibility criteria**. The system should:  \n",
        "✔ **Check if the customer is employed.**  \n",
        "✔ **Verify if the income is at least PKR 50,000.**  \n",
        "✔ **Check credit score:**  \n",
        "   - **750+ → 5% Interest Rate**  \n",
        "   - **650 - 749 → 8% Interest Rate**  \n",
        "   - **Below 650 → Loan Rejected**  \n",
        "✔ **If the applicant is unemployed, the loan is rejected immediately.**  \n",
        "\n",
        "### **Implementation Steps:**  \n",
        "🔹 **Step 1:** Structure the `if-elif-else` statements for this logic.  \n",
        "🔹 **Step 2:** Implement a Python program using **ipywidgets** for interactive user input (income, credit score, employment status) to decide whether the loan is approved or rejected.\n",
        "\n",
        "---"
      ],
      "metadata": {
        "id": "sIKHzkmkLYYM"
      }
    },
    {
      "cell_type": "code",
      "source": [
        "import ipywidgets as widgets\n",
        "from IPython.display import display\n",
        "\n",
        "def check_loan_eligibility(income, credit_score, employed):\n",
        "    if not employed:\n",
        "        return \"Loan Rejected: Unemployed.\"\n",
        "    elif income < 50000:\n",
        "        return \"Loan Rejected: Low income.\"\n",
        "    elif credit_score >= 750:\n",
        "        return \"Loan Approved: 5% Interest.\"\n",
        "    elif credit_score >= 650:\n",
        "        return \"Loan Approved: 8% Interest.\"\n",
        "    else:\n",
        "        return \"Loan Rejected: Low credit score.\"\n",
        "\n",
        "\n",
        "income = widgets.IntText(description=\"Income (PKR):\", value=50000)\n",
        "credit_score = widgets.IntSlider(description=\"Credit Score:\", min=300, max=850, value=700, step=10)\n",
        "employed = widgets.Checkbox(description=\"Employed\", value=True)\n",
        "output = widgets.Output()\n",
        "\n",
        "def update(_):\n",
        "    with output:\n",
        "        output.clear_output()\n",
        "        print(check_loan_eligibility(income.value, credit_score.value, employed.value))\n",
        "\n",
        "for widget in (income, credit_score, employed):\n",
        "    widget.observe(update, names='value')\n",
        "\n",
        "display(income, credit_score, employed, output)\n"
      ],
      "metadata": {
        "id": "JnoBYZkTKqRw",
        "colab": {
          "base_uri": "https://localhost:8080/",
          "height": 127,
          "referenced_widgets": [
            "0a3b2edd6c404a45a7960e9e8868dccc",
            "ce92c9373c2d4c2f9069c94007e2af47",
            "0020f9fbb86246c4ab6f4768d995e92e",
            "8af05ba8e6c3403c806383c52a24b1dd",
            "ba1880bd5ccc46b0bb20e8f754a39746",
            "f6dc1967d0974edb85305584f4fa21a9",
            "1cef2c381c7a4fdeb54987cb14de2ab4",
            "afef2e4bbc274c078723d2fc5ee0e32a",
            "319a2c8863b045758b9e3a8734ee5633",
            "04d47676301a4a0ca4b399ec6f7d5a5c",
            "81ee290b9ea74193b0f32da99c8a7ac0"
          ]
        },
        "outputId": "218331da-ffc4-4d0b-aed3-11b7c79875f2"
      },
      "execution_count": null,
      "outputs": [
        {
          "output_type": "display_data",
          "data": {
            "text/plain": [
              "IntText(value=50000, description='Income (PKR):')"
            ],
            "application/vnd.jupyter.widget-view+json": {
              "version_major": 2,
              "version_minor": 0,
              "model_id": "0a3b2edd6c404a45a7960e9e8868dccc"
            }
          },
          "metadata": {}
        },
        {
          "output_type": "display_data",
          "data": {
            "text/plain": [
              "IntSlider(value=700, description='Credit Score:', max=850, min=300, step=10)"
            ],
            "application/vnd.jupyter.widget-view+json": {
              "version_major": 2,
              "version_minor": 0,
              "model_id": "8af05ba8e6c3403c806383c52a24b1dd"
            }
          },
          "metadata": {}
        },
        {
          "output_type": "display_data",
          "data": {
            "text/plain": [
              "Checkbox(value=True, description='Employed')"
            ],
            "application/vnd.jupyter.widget-view+json": {
              "version_major": 2,
              "version_minor": 0,
              "model_id": "1cef2c381c7a4fdeb54987cb14de2ab4"
            }
          },
          "metadata": {}
        },
        {
          "output_type": "display_data",
          "data": {
            "text/plain": [
              "Output()"
            ],
            "application/vnd.jupyter.widget-view+json": {
              "version_major": 2,
              "version_minor": 0,
              "model_id": "04d47676301a4a0ca4b399ec6f7d5a5c"
            }
          },
          "metadata": {}
        }
      ]
    },
    {
      "cell_type": "markdown",
      "source": [
        "## **🟢 Part 2: Investment Risk Assessment [4 marks]**  \n",
        "\n",
        "📌 **Requirement:**  \n",
        "SecureBank offers **investment analysis services**. The system should evaluate a **portfolio of stocks** and classify the risk level based on stock returns:  \n",
        "✔ If **any stock has a negative return**, the portfolio is **High Risk**.  \n",
        "✔ If **all stocks have positive returns**, but at least one return is below 5%, classify as **Medium Risk**.  \n",
        "✔ If **all stock returns are 5% or above**, classify as **Low Risk**.  \n",
        "\n",
        "### **Implementation Steps:**  \n",
        "🔹 **Step 1:** Use loops to iterate through the list of stock returns.  \n",
        "🔹 **Step 2:** Implement `if-elif` conditions to classify the risk.  \n",
        "🔹 **Step 3:** Write a Python program using **ipywidgets** to allow users to **input stock returns interactively** and receive a risk assessment.\n",
        "\n",
        "---"
      ],
      "metadata": {
        "id": "s66ykZPwKmRL"
      }
    },
    {
      "cell_type": "code",
      "source": [
        "import ipywidgets as widgets\n",
        "from IPython.display import display\n",
        "\n",
        "def assess_risk(returns):\n",
        "    return \"High Risk\" if any(r < 0 for r in returns) else \"Low Risk\" if all(r >= 5 for r in returns) else \"Medium Risk\"\n",
        "\n",
        "returns_input = widgets.Text(description=\"Stock Returns:\", value=\"5,10,15\")\n",
        "output = widgets.Output()\n",
        "\n",
        "def update(_):\n",
        "    with output:\n",
        "        output.clear_output()\n",
        "        returns = list(map(float, returns_input.value.split(',')))\n",
        "        print(f\"Investment Risk: {assess_risk(returns)}\")\n",
        "\n",
        "returns_input.observe(update, names='value')\n",
        "display(returns_input, output)\n"
      ],
      "metadata": {
        "id": "I6Mi2LbOKtym",
        "colab": {
          "base_uri": "https://localhost:8080/",
          "height": 67,
          "referenced_widgets": [
            "78cd9de6f89e405d989b20c728015d2e",
            "2cd0c873430f476787cd2f1949e3b872",
            "6c68b71ec6a441a0ad4864cda2430b3f",
            "f0a8e506119542b29e8b238d2f69b3c1",
            "16e207ba4afd48a1828fc1775cee4040"
          ]
        },
        "outputId": "84b77854-3f3e-4c81-d54f-ca2eaaaa404f"
      },
      "execution_count": 2,
      "outputs": [
        {
          "output_type": "display_data",
          "data": {
            "text/plain": [
              "Text(value='5,10,15', description='Stock Returns:')"
            ],
            "application/vnd.jupyter.widget-view+json": {
              "version_major": 2,
              "version_minor": 0,
              "model_id": "78cd9de6f89e405d989b20c728015d2e"
            }
          },
          "metadata": {}
        },
        {
          "output_type": "display_data",
          "data": {
            "text/plain": [
              "Output()"
            ],
            "application/vnd.jupyter.widget-view+json": {
              "version_major": 2,
              "version_minor": 0,
              "model_id": "f0a8e506119542b29e8b238d2f69b3c1"
            }
          },
          "metadata": {}
        }
      ]
    },
    {
      "cell_type": "markdown",
      "source": [
        "## **🟢 Part 3: Loan Repayment Tracker [4 marks]**  \n",
        "\n",
        "📌 **Requirement:**  \n",
        "Customers who receive a loan should be able to track their **loan balance** as they make monthly payments. The system should:  \n",
        "✔ Start with an **initial loan balance** (e.g., PKR 500,000).  \n",
        "✔ Deduct a **fixed monthly payment** (e.g., PKR 25,000).  \n",
        "✔ Continue tracking until **loan balance reaches zero**.  \n",
        "✔ Display the remaining balance **after each payment**.  \n",
        "\n",
        "### **Implementation Steps:**  \n",
        "🔹 **Step 1:** Choose an appropriate loop (`for` or `while`).  \n",
        "🔹 **Step 2:** Ensure the loop **stops once the loan is fully paid**.  \n",
        "🔹 **Step 3:** Implement a Python program using **ipywidgets** to **simulate loan repayment interactively**.\n",
        "\n",
        "---"
      ],
      "metadata": {
        "id": "xTrlsvaZKhaQ"
      }
    },
    {
      "cell_type": "code",
      "source": [
        "import ipywidgets as widgets\n",
        "from IPython.display import display\n",
        "\n",
        "def track_loan_repayment(balance, payment):\n",
        "    history = []\n",
        "    while balance > 0:\n",
        "        balance = max(0, balance - payment)\n",
        "        history.append(balance)\n",
        "    return history\n",
        "\n",
        "# Widgets\n",
        "initial_balance = widgets.IntText(description=\"Loan Amount:\", value=500000)\n",
        "monthly_payment = widgets.IntText(description=\"Monthly Payment:\", value=25000)\n",
        "output = widgets.Output()\n",
        "\n",
        "def update(_):\n",
        "    with output:\n",
        "        output.clear_output()\n",
        "        history = track_loan_repayment(initial_balance.value, monthly_payment.value)\n",
        "        for month, balance in enumerate(history, 1):\n",
        "            print(f\"Month {month}: Remaining Balance = PKR {balance}\")\n",
        "\n",
        "initial_balance.observe(update, names='value')\n",
        "monthly_payment.observe(update, names='value')\n",
        "\n",
        "display(initial_balance, monthly_payment, output)\n"
      ],
      "metadata": {
        "id": "h3V9vFDjKvGH",
        "colab": {
          "base_uri": "https://localhost:8080/",
          "height": 442,
          "referenced_widgets": [
            "b5dad00a080a4c74af5ed95ad5130f69",
            "93fe753dae0c4632bd5e6bbd30425945",
            "c9dfafbef6c844bfbe436b0f1c83a034",
            "5cc02ca7303b4beb84a0fd9384572b16",
            "43cd5f9e1d6745b4a3b6ac12bbb42077",
            "ab226ddf3c1b4866a83336efcd48a6eb",
            "1cb9b90edf70429a802b20447386b404",
            "6ab1f0b287f74cc99f6ee1e87328f3f3"
          ]
        },
        "outputId": "486fbb7f-8e34-4c47-e57f-c08886035734"
      },
      "execution_count": 3,
      "outputs": [
        {
          "output_type": "display_data",
          "data": {
            "text/plain": [
              "IntText(value=500000, description='Loan Amount:')"
            ],
            "application/vnd.jupyter.widget-view+json": {
              "version_major": 2,
              "version_minor": 0,
              "model_id": "b5dad00a080a4c74af5ed95ad5130f69"
            }
          },
          "metadata": {}
        },
        {
          "output_type": "display_data",
          "data": {
            "text/plain": [
              "IntText(value=25000, description='Monthly Payment:')"
            ],
            "application/vnd.jupyter.widget-view+json": {
              "version_major": 2,
              "version_minor": 0,
              "model_id": "5cc02ca7303b4beb84a0fd9384572b16"
            }
          },
          "metadata": {}
        },
        {
          "output_type": "display_data",
          "data": {
            "text/plain": [
              "Output()"
            ],
            "application/vnd.jupyter.widget-view+json": {
              "version_major": 2,
              "version_minor": 0,
              "model_id": "1cb9b90edf70429a802b20447386b404"
            }
          },
          "metadata": {}
        }
      ]
    },
    {
      "cell_type": "markdown",
      "source": [
        "\n",
        "## **🟢 Part 4: Stock Price Monitoring and Trading Strategy [4 marks]**  \n",
        "\n",
        "📌 **Requirement:**  \n",
        "A stock trader wants to **track stock prices daily** and **sell when the price reaches PKR 200**. The system should:  \n",
        "✔ Iterate through a **list of stock prices**.  \n",
        "✔ **Skip missing stock data** (`None` values).  \n",
        "✔ Stop tracking **once the price reaches PKR 200**.  \n",
        "\n",
        "### **Implementation Steps:**  \n",
        "🔹 **Step 1:** Handle missing stock data using `continue`.  \n",
        "🔹 **Step 2:** Stop tracking once the stock hits the target price (`break`).  \n",
        "🔹 **Step 3:** Write a Python program using **ipywidgets** to **process stock prices interactively** and trigger alerts when conditions are met.\n",
        "\n",
        "---"
      ],
      "metadata": {
        "id": "3V72WRTcKc17"
      }
    },
    {
      "cell_type": "code",
      "source": [
        "import ipywidgets as widgets\n",
        "from IPython.display import display\n",
        "\n",
        "def monitor_stock_prices(prices, target):\n",
        "    for day, price in enumerate(prices, 1):\n",
        "        if price is None:\n",
        "            continue  # Skip missing data\n",
        "        if price >= target:\n",
        "            return f\"Day {day}: Stock hit target price PKR {price}. Selling!\"\n",
        "    return \"Target price not reached.\"\n",
        "\n",
        "# Widgets\n",
        "stock_prices_input = widgets.Text(description=\"Stock Prices:\", value=\"150,160,None,180,200,210\")\n",
        "target_price = widgets.IntText(description=\"Target Price:\", value=200)\n",
        "output = widgets.Output()\n",
        "\n",
        "def update(_):\n",
        "    with output:\n",
        "        output.clear_output()\n",
        "        prices = [float(p) if p.lower() != 'none' else None for p in stock_prices_input.value.split(',')]\n",
        "        result = monitor_stock_prices(prices, target_price.value)\n",
        "        print(result)\n",
        "\n",
        "stock_prices_input.observe(update, names='value')\n",
        "target_price.observe(update, names='value')\n",
        "\n",
        "display(stock_prices_input, target_price, output)\n"
      ],
      "metadata": {
        "id": "G4v6qt6GKwFN",
        "colab": {
          "base_uri": "https://localhost:8080/",
          "height": 97,
          "referenced_widgets": [
            "ac0fb5cc682048a8aaf35d946a509bfc",
            "972f7bb4cf8b47d3bb9e120728924aed",
            "7147abc2b62f4d38a974d6683463cb9e",
            "c8d246b731234ed78bd7bb773b622ecf",
            "f5ba5b824b1d40c7a31e26c2f9b6682a",
            "4ea110924284412190301698c7bcd84f",
            "77590e9de4994607aadf7088ecf1afb2",
            "026b18aac2ee4278995e3e3320250e70"
          ]
        },
        "outputId": "726ed0da-e1c7-4ef3-865c-50be64ab919b"
      },
      "execution_count": 4,
      "outputs": [
        {
          "output_type": "display_data",
          "data": {
            "text/plain": [
              "Text(value='150,160,None,180,200,210', description='Stock Prices:')"
            ],
            "application/vnd.jupyter.widget-view+json": {
              "version_major": 2,
              "version_minor": 0,
              "model_id": "ac0fb5cc682048a8aaf35d946a509bfc"
            }
          },
          "metadata": {}
        },
        {
          "output_type": "display_data",
          "data": {
            "text/plain": [
              "IntText(value=200, description='Target Price:')"
            ],
            "application/vnd.jupyter.widget-view+json": {
              "version_major": 2,
              "version_minor": 0,
              "model_id": "c8d246b731234ed78bd7bb773b622ecf"
            }
          },
          "metadata": {}
        },
        {
          "output_type": "display_data",
          "data": {
            "text/plain": [
              "Output()"
            ],
            "application/vnd.jupyter.widget-view+json": {
              "version_major": 2,
              "version_minor": 0,
              "model_id": "77590e9de4994607aadf7088ecf1afb2"
            }
          },
          "metadata": {}
        }
      ]
    },
    {
      "cell_type": "markdown",
      "source": [
        "\n",
        "## **🟢 Part 5: Currency Exchange Rate Tracker [4 marks]**  \n",
        "\n",
        "📌 **Requirement:**  \n",
        "SecureBank provides **real-time currency exchange tracking**. The system should:  \n",
        "✔ Start at **PKR 290/USD**.  \n",
        "✔ Increase by **1 PKR per day** until it reaches **PKR 300/USD**.  \n",
        "✔ Print exchange rates daily and stop when the **target rate is reached**.  \n",
        "\n",
        "### **Implementation Steps:**  \n",
        "🔹 **Step 1:** Choose a suitable loop (`for` or `while`).  \n",
        "🔹 **Step 2:** Stop the loop when the exchange rate reaches the target.  \n",
        "🔹 **Step 3:** Implement a Python program using **ipywidgets** to **track the currency exchange rate interactively**.\n",
        "\n",
        "---"
      ],
      "metadata": {
        "id": "lD82JT7-KXqK"
      }
    },
    {
      "cell_type": "code",
      "source": [
        "import ipywidgets as widgets\n",
        "from IPython.display import display\n",
        "\n",
        "def track_exchange_rate(start_rate, target_rate):\n",
        "    rates = []\n",
        "    while start_rate <= target_rate:\n",
        "        rates.append(start_rate)\n",
        "        start_rate += 1\n",
        "    return rates\n",
        "\n",
        "# Widgets\n",
        "start_rate = widgets.IntText(description=\"Start Rate (PKR/USD):\", value=290)\n",
        "target_rate = widgets.IntText(description=\"Target Rate (PKR/USD):\", value=300)\n",
        "output = widgets.Output()\n",
        "\n",
        "def update(_):\n",
        "    with output:\n",
        "        output.clear_output()\n",
        "        rates = track_exchange_rate(start_rate.value, target_rate.value)\n",
        "        for day, rate in enumerate(rates, 1):\n",
        "            print(f\"Day {day}: Exchange Rate = PKR {rate}/USD\")\n",
        "\n",
        "start_rate.observe(update, names='value')\n",
        "target_rate.observe(update, names='value')\n",
        "\n",
        "display(start_rate, target_rate, output)\n"
      ],
      "metadata": {
        "id": "3xiDWiabKwfr",
        "colab": {
          "base_uri": "https://localhost:8080/",
          "height": 261,
          "referenced_widgets": [
            "aef03585ee06440daa960532cc75a410",
            "9ecba2f611844c1990da8c0077ddfc49",
            "ffc3efbf67c54c87807aa423c7ba2ee5",
            "70f70fdfbea64794bc460b00ad3c4988",
            "e225a00d0ad0451e95dd9280d14a62af",
            "6b6fff86e13e442296a9f0d9c168a698",
            "5604a032ea0a42539d1c8131565bc155",
            "48e461b0f2dc44ceb6e2bdb167956808"
          ]
        },
        "outputId": "bb8b5002-9948-4068-9d7d-42f9b1ec4df1"
      },
      "execution_count": 5,
      "outputs": [
        {
          "output_type": "display_data",
          "data": {
            "text/plain": [
              "IntText(value=290, description='Start Rate (PKR/USD):')"
            ],
            "application/vnd.jupyter.widget-view+json": {
              "version_major": 2,
              "version_minor": 0,
              "model_id": "aef03585ee06440daa960532cc75a410"
            }
          },
          "metadata": {}
        },
        {
          "output_type": "display_data",
          "data": {
            "text/plain": [
              "IntText(value=300, description='Target Rate (PKR/USD):')"
            ],
            "application/vnd.jupyter.widget-view+json": {
              "version_major": 2,
              "version_minor": 0,
              "model_id": "70f70fdfbea64794bc460b00ad3c4988"
            }
          },
          "metadata": {}
        },
        {
          "output_type": "display_data",
          "data": {
            "text/plain": [
              "Output()"
            ],
            "application/vnd.jupyter.widget-view+json": {
              "version_major": 2,
              "version_minor": 0,
              "model_id": "5604a032ea0a42539d1c8131565bc155"
            }
          },
          "metadata": {}
        }
      ]
    },
    {
      "cell_type": "markdown",
      "source": [
        "*   \n",
        "*\n",
        "*   \n",
        "*   \n",
        "*   \n",
        "*\n",
        "*   \n",
        "*"
      ],
      "metadata": {
        "id": "-gpSKR0APnLP"
      }
    },
    {
      "cell_type": "markdown",
      "source": [
        "\n",
        "\n",
        "---\n",
        "\n",
        "\n",
        "======================================== *to err is human* ========================================\n",
        "\n",
        "\n",
        "---\n",
        "\n"
      ],
      "metadata": {
        "id": "hUFnFKjmKxeH"
      }
    },
    {
      "cell_type": "markdown",
      "source": [
        "*   \n",
        "*\n",
        "*   \n",
        "*   \n",
        "*   \n",
        "*\n",
        "*   \n",
        "*\n",
        "\n",
        "---\n",
        "\n",
        "## **🎯 Grading Rubric (20 Marks)**  \n",
        "\n",
        "| **Criteria**           | **🌟 Excellent (4 Marks)** | **✅ Good (3 Marks)** | **⚠️ Satisfactory (2 Marks)** | **❌ Needs Improvement (1 Mark)** | **🚫 No Attempt (0 Marks)** |\n",
        "|------------------------|-----------------------|------------------|----------------------|----------------------|----------------------|\n",
        "| **📝 Loan Eligibility System**  | ✅ Correct logic with `ipywidgets`, handles user input well. | ⚠️ Mostly correct logic, minor issues. | ❌ Basic logic but missing conditions. | 🚫 Major errors in implementation. | ❌ No implementation. |\n",
        "| **📊 Investment Risk Assessment**  | ✅ Efficient looping with correct risk classification and `ipywidgets`. | ⚠️ Minor issues in logic or implementation. | ❌ Some conditions missing, basic implementation. | 🚫 Incorrect or incomplete logic. | ❌ No implementation. |\n",
        "| **💰 Loan Repayment Tracker**  | ✅ Tracks repayment correctly, interactive using `ipywidgets`. | ⚠️ Correct logic but missing interactivity. | ❌ Loop present but some logic missing. | 🚫 Incorrect approach. | ❌ No implementation. |\n",
        "| **📈 Stock Price Monitoring**  | ✅ Proper use of `continue` and `break`, handles missing values. | ⚠️ Minor logic issues, mostly correct. | ❌ Some conditions missing, partially correct. | 🚫 Incorrect logic, missing key elements. | ❌ No implementation. |\n",
        "| **💹 Currency Exchange Tracker**  | ✅ Correct loop, stops at target rate, structured well with `ipywidgets`. | ⚠️ Mostly correct, minor inefficiencies. | ❌ Incorrect stopping condition, basic implementation. | 🚫 Incorrect approach. | ❌ No implementation. |\n",
        "| **📜 Code Quality & Structure**  | ✅ Well-commented, clean code, follows best practices. | ⚠️ Mostly structured but needs better readability. | ❌ Works but lacks clarity. | 🚫 Unstructured, lacks comments. | ❌ No code present. |\n",
        "| **🎛️ Use of `ipywidgets`** | ✅ Used effectively in all parts, enhances interactivity. | ⚠️ Used in most parts but minor inefficiencies. | ❌ Implemented but not fully functional. | 🚫 Attempted but not used correctly. | ❌ No implementation. |\n",
        "| **📂 GitHub Submission & Documentation** | ✅ Well-structured repo, proper `README.md`. | ⚠️ Repo exists but lacks structured documentation. | ❌ Basic submission, missing details. | 🚫 Attempted but incomplete. | ❌ No submission. |\n",
        "| **📤 Google Classroom Submission** | ✅ Submitted correctly with all required elements. | ⚠️ Submitted but missing minor details. | ❌ Late submission or incomplete. | 🚫 Attempted but missing key parts. | ❌ No submission. |\n",
        "| **🔎 Overall Implementation & Accuracy** | ✅ All features implemented correctly, runs smoothly. | ⚠️ Most features implemented, minor issues. | ❌ Some features missing but basic functionality works. | 🚫 Major features missing. | ❌ No implementation. |\n",
        "\n",
        "---\n",
        "\n"
      ],
      "metadata": {
        "id": "E2rlRDSuPPRt"
      }
    },
    {
      "cell_type": "markdown",
      "source": [
        "*Follow the deadline. This is an individual assignment. Do not copy/paste from LLMs or from other students.*"
      ],
      "metadata": {
        "id": "-_kwwSB6PiZp"
      }
    }
  ]
}